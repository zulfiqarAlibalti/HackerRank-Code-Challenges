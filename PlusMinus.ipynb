{
 "cells": [
  {
   "cell_type": "markdown",
   "id": "c47d54a0",
   "metadata": {},
   "source": [
    "Given an array of integers, calculate the ratios of its elements that are positive, negative, and zero. Print the decimal value of each fraction on a new line with $6$ places after the decimal."
   ]
  },
  {
   "cell_type": "markdown",
   "id": "d51da419",
   "metadata": {},
   "source": [
    "**Note:** This challenge introduces precision problems. The test cases are scaled to six decimal places, though answers with absolute error of up to  $10^{-4}$ are acceptable.\n",
    "\n",
    "**Exmaple:**\n",
    "        ```arr = [1,1,0,-1,-1]```\n",
    "        \n",
    " There   are $n  =5$ elements, two positive, two negative and one zero. Their ratios are\n",
    " \n",
    " $2/5 = 0.400000$\n",
    " \n",
    " $2/5 = 0.400000$\n",
    " \n",
    " $1/5 = 0.200000$\n",
    " \n",
    " Results are printed as \n",
    " \n",
    " ```0.400000```\n",
    " \n",
    " ```0.400000```\n",
    " \n",
    " ```0.200000```"
   ]
  },
  {
   "cell_type": "code",
   "execution_count": 3,
   "id": "0a03bb73",
   "metadata": {},
   "outputs": [
    {
     "name": "stdout",
     "output_type": "stream",
     "text": [
      "-4\n",
      "3\n",
      "1.000000\n",
      "0.000000\n",
      "0.000000\n"
     ]
    }
   ],
   "source": [
    "#!/bin/python3\n",
    "# %%% By Zulfiqar Ali%%%%\n",
    "\n",
    "import math\n",
    "import os\n",
    "import random\n",
    "import re\n",
    "import sys\n",
    "\n",
    "#\n",
    "# Complete the 'plusMinus' function below.\n",
    "#\n",
    "# The function accepts INTEGER_ARRAY arr as parameter.\n",
    "#\n",
    "\n",
    "def plusMinus(arr):\n",
    "    # Write your code here\n",
    "    positiveCounter = 0\n",
    "    negativeCounter = 0\n",
    "    zeroCounter = 0\n",
    "    \n",
    "    for i in range(len(arr)):\n",
    "        if arr[i]>0:\n",
    "            positiveCounter += 1\n",
    "        elif arr[i]<0:\n",
    "            negativeCounter += 1\n",
    "        else:\n",
    "            zeroCounter +=1\n",
    "    print(\"%f\"%(positiveCounter/len(arr)))\n",
    "    print(\"%f\"%(negativeCounter/len(arr)))\n",
    "    print(\"%f\"%(zeroCounter /len(arr)))\n",
    "\n",
    "if __name__ == '__main__':\n",
    "    n = int(input().strip())\n",
    "\n",
    "    arr = list(map(int, input().rstrip().split()))\n",
    "\n",
    "    plusMinus(arr)"
   ]
  },
  {
   "cell_type": "code",
   "execution_count": null,
   "id": "a4ba55f4",
   "metadata": {},
   "outputs": [],
   "source": []
  }
 ],
 "metadata": {
  "kernelspec": {
   "display_name": "Python 3 (ipykernel)",
   "language": "python",
   "name": "python3"
  },
  "language_info": {
   "codemirror_mode": {
    "name": "ipython",
    "version": 3
   },
   "file_extension": ".py",
   "mimetype": "text/x-python",
   "name": "python",
   "nbconvert_exporter": "python",
   "pygments_lexer": "ipython3",
   "version": "3.9.5"
  }
 },
 "nbformat": 4,
 "nbformat_minor": 5
}
