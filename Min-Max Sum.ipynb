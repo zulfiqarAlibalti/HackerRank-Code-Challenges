{
 "cells": [
  {
   "cell_type": "markdown",
   "id": "52bc3de7",
   "metadata": {},
   "source": [
    "Given five positive integers, find the minimum and maximum values that can be calculated by summing exactly four of the five integers. Then print the respective minimum and maximum values as a single line of two space-separated long integers."
   ]
  },
  {
   "cell_type": "markdown",
   "id": "cbc3eaeb",
   "metadata": {},
   "source": [
    "**Exmaple:**\n",
    "        ```arr = [1,3,5,7,9]```"
   ]
  },
  {
   "cell_type": "markdown",
   "id": "c2590e60",
   "metadata": {},
   "source": [
    "The minimum sum is $1+3+5+7 = 16$ and maximum sum is $3+5+9=7+9 = 24$. The function prints\n",
    "\n",
    "```16 24```"
   ]
  },
  {
   "cell_type": "code",
   "execution_count": 5,
   "id": "55fa6390",
   "metadata": {},
   "outputs": [
    {
     "name": "stdout",
     "output_type": "stream",
     "text": [
      "1 2 3 4 5 \n",
      "10 14\n"
     ]
    }
   ],
   "source": [
    "#!/bin/python3\n",
    "# %%% By Zulfiqar Ali%%%%\n",
    "import math\n",
    "import os\n",
    "import random\n",
    "import re\n",
    "import sys\n",
    "\n",
    "#\n",
    "# Complete the 'miniMaxSum' function below.\n",
    "#\n",
    "# The function accepts INTEGER_ARRAY arr as parameter.\n",
    "#\n",
    "\n",
    "def MinMaxSum(arr):\n",
    "    # Write your code here\n",
    "    \n",
    "    \n",
    "    for i in range(0, len(arr)):\n",
    "        arr[i] =int(arr[i])\n",
    "        s = sum(arr)\n",
    "            \n",
    "    print(str(s-max(arr)) + ' ' + str(s -min(arr)))\n",
    "    \n",
    "        \n",
    "\n",
    "if __name__ == '__main__':\n",
    "\n",
    "    arr = list(map(int, input().rstrip().split()))\n",
    "\n",
    "    MinMaxSum(arr)\n",
    "        "
   ]
  },
  {
   "cell_type": "code",
   "execution_count": null,
   "id": "64978968",
   "metadata": {},
   "outputs": [],
   "source": []
  }
 ],
 "metadata": {
  "kernelspec": {
   "display_name": "Python 3 (ipykernel)",
   "language": "python",
   "name": "python3"
  },
  "language_info": {
   "codemirror_mode": {
    "name": "ipython",
    "version": 3
   },
   "file_extension": ".py",
   "mimetype": "text/x-python",
   "name": "python",
   "nbconvert_exporter": "python",
   "pygments_lexer": "ipython3",
   "version": "3.9.5"
  }
 },
 "nbformat": 4,
 "nbformat_minor": 5
}
